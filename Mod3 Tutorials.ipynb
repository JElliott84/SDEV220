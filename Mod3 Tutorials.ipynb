{
 "cells": [
  {
   "cell_type": "code",
   "execution_count": 17,
   "id": "6a1d5f29-fc33-480d-993d-301afd136797",
   "metadata": {},
   "outputs": [
    {
     "name": "stdout",
     "output_type": "stream",
     "text": [
      "0 0 1 1 2 2 "
     ]
    }
   ],
   "source": [
    "class Solution:\n",
    "    #Funtion to sort an array of 0s, 1s, and 2s\n",
    "    #Watch for errors in indentation..\n",
    "    def sort012(arr):\n",
    "        n = len(arr)\n",
    "        lo = 0\n",
    "        hi = n - 1\n",
    "        mid = 0\n",
    "\n",
    "        while mid <= hi:\n",
    "          if arr[mid] == 0:\n",
    "            arr[lo], arr[mid] = arr[mid], arr[lo]\n",
    "            lo = lo + 1\n",
    "            mid = mid + 1\n",
    "        \n",
    "          elif arr[mid] == 1:\n",
    "            mid = mid + 1\n",
    "        \n",
    "          else:\n",
    "            arr[mid], arr[hi] = arr[hi], arr[mid]\n",
    "            hi = hi - 1\n",
    "        \n",
    "        return arr\n",
    "\n",
    "    arr = [0, 1, 2, 0, 1, 2]\n",
    "    arr = sort012(arr)\n",
    "\n",
    "    for x in arr:\n",
    "        print(x, end=\" \")"
   ]
  },
  {
   "cell_type": "code",
   "execution_count": 23,
   "id": "2edd7857-b1cd-45d6-9b11-bee98c0eabf8",
   "metadata": {},
   "outputs": [],
   "source": [
    "class Solution:\n",
    "#Issues with the lambda usage, will need to study more\n",
    "    def binarysearch(self, arr, k):\n",
    "        l, h = 0, len(arr) - 1\n",
    "        result = -1\n",
    "\n",
    "        while l <= h:\n",
    "            mid = l + (h - l) // 2\n",
    "\n",
    "            if arr[mid] == k:\n",
    "                result = mid\n",
    "                h = mid - 1\n",
    "            elif arr[mid] < k:\n",
    "                l = mid + 1\n",
    "            else:\n",
    "                h = mid - 1\n",
    "\n",
    "        return result"
   ]
  },
  {
   "cell_type": "code",
   "execution_count": null,
   "id": "043faecf-39b9-4be1-bae4-ba063f70fe7c",
   "metadata": {},
   "outputs": [],
   "source": []
  }
 ],
 "metadata": {
  "kernelspec": {
   "display_name": "Python 3 (ipykernel)",
   "language": "python",
   "name": "python3"
  },
  "language_info": {
   "codemirror_mode": {
    "name": "ipython",
    "version": 3
   },
   "file_extension": ".py",
   "mimetype": "text/x-python",
   "name": "python",
   "nbconvert_exporter": "python",
   "pygments_lexer": "ipython3",
   "version": "3.12.7"
  }
 },
 "nbformat": 4,
 "nbformat_minor": 5
}
