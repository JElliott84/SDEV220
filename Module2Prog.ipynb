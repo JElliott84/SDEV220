{
 "cells": [
  {
   "cell_type": "code",
   "execution_count": 3,
   "id": "30edce9f-8bf3-468a-a2c9-778582028fdb",
   "metadata": {},
   "outputs": [
    {
     "name": "stdin",
     "output_type": "stream",
     "text": [
      "What is your guess? 9\n"
     ]
    },
    {
     "name": "stdout",
     "output_type": "stream",
     "text": [
      "Too High\n"
     ]
    }
   ],
   "source": [
    "#Choose a number between 1 and 10: 7\n",
    "#4.1\n",
    "secret = 7\n",
    "guess_num = input(\"What is your guess?\")\n",
    "guess = int(guess_num)\n",
    "\n",
    "if guess == secret:\n",
    "    print(\"Just Right\")\n",
    "else:\n",
    "    if guess < secret:\n",
    "        print(\"Too Low\")\n",
    "    elif guess > secret:\n",
    "        print(\"Too High\")\n"
   ]
  },
  {
   "cell_type": "code",
   "execution_count": 4,
   "id": "8e2af774-cf34-4614-b991-552a49b34638",
   "metadata": {},
   "outputs": [
    {
     "name": "stdout",
     "output_type": "stream",
     "text": [
      "Watermelon\n"
     ]
    }
   ],
   "source": [
    "#4.2\n",
    "green = True\n",
    "small = False\n",
    "\n",
    "if small:\n",
    "    if green:\n",
    "        print(\"Pea\")\n",
    "    else:\n",
    "        print(\"Cherry\")\n",
    "else:\n",
    "    if green:\n",
    "        print(\"Watermelon\")\n",
    "    else:\n",
    "        print(\"pumpkin\")\n",
    "\n",
    "    "
   ]
  },
  {
   "cell_type": "code",
   "execution_count": 5,
   "id": "f0bf6d32-1548-4ea7-934e-89bb75b5c1b6",
   "metadata": {},
   "outputs": [
    {
     "name": "stdout",
     "output_type": "stream",
     "text": [
      "3\n",
      "2\n",
      "1\n",
      "0\n"
     ]
    }
   ],
   "source": [
    "#6.1\n",
    "for value in [3, 2, 1, 0]:\n",
    "    print(value)\n",
    "    "
   ]
  },
  {
   "cell_type": "code",
   "execution_count": 6,
   "id": "2f1854d2-9616-4b7f-92ba-a22b11ae720a",
   "metadata": {},
   "outputs": [
    {
     "name": "stdout",
     "output_type": "stream",
     "text": [
      "You are too Low - try again\n",
      "You are too Low - try again\n",
      "You are too Low - try again\n",
      "You are too Low - try again\n",
      "You are too Low - try again\n",
      "You are too Low - try again\n",
      "Found it!\n"
     ]
    }
   ],
   "source": [
    "#6.2\n",
    "guess_me = 7\n",
    "number = 1\n",
    "\n",
    "while True:\n",
    "    if number < guess_me:\n",
    "        print(\"You are too Low - try again\")\n",
    "    elif number == guess_me:\n",
    "        print(\"Found it!\")\n",
    "        break\n",
    "    elif number > guess_me:\n",
    "        print(\"oops\")\n",
    "        break\n",
    "    number += 1\n"
   ]
  },
  {
   "cell_type": "code",
   "execution_count": 8,
   "id": "3afcf751-77d1-4813-b55c-048f93918296",
   "metadata": {},
   "outputs": [
    {
     "name": "stdout",
     "output_type": "stream",
     "text": [
      "too low\n",
      "too low\n",
      "too low\n",
      "too low\n",
      "too low\n",
      "found it!\n"
     ]
    }
   ],
   "source": [
    "#6.3\n",
    "guess_me = 5\n",
    "for number in range (10):\n",
    "    if number < guess_me:\n",
    "        print(\"too low\")\n",
    "    elif number == guess_me:\n",
    "        print(\"found it!\")\n",
    "        break\n",
    "    else:\n",
    "        print(\"oops\")\n",
    "        break\n",
    "    "
   ]
  },
  {
   "cell_type": "code",
   "execution_count": null,
   "id": "6d1e53fb-2bfc-4dd3-83c1-78fce657a6df",
   "metadata": {},
   "outputs": [],
   "source": []
  }
 ],
 "metadata": {
  "kernelspec": {
   "display_name": "Python 3 (ipykernel)",
   "language": "python",
   "name": "python3"
  },
  "language_info": {
   "codemirror_mode": {
    "name": "ipython",
    "version": 3
   },
   "file_extension": ".py",
   "mimetype": "text/x-python",
   "name": "python",
   "nbconvert_exporter": "python",
   "pygments_lexer": "ipython3",
   "version": "3.12.7"
  }
 },
 "nbformat": 4,
 "nbformat_minor": 5
}
