{
 "cells": [
  {
   "cell_type": "code",
   "execution_count": 1,
   "id": "d887c7a4-4d8a-40c1-b748-72f04e55a619",
   "metadata": {},
   "outputs": [
    {
     "data": {
      "text/plain": [
       "datetime.datetime(2025, 7, 20, 0, 0)"
      ]
     },
     "execution_count": 1,
     "metadata": {},
     "output_type": "execute_result"
    }
   ],
   "source": [
    "#13.1,2,3\n",
    "import datetime\n",
    "\n",
    "from datetime import date\n",
    "\n",
    "now = date.today()\n",
    "now_str = now.isoformat()\n",
    "with open('today.txt', 'wt') as output:\n",
    "    output.write(now_str)\n",
    "\n",
    "with open('today.txt', 'rt') as input:\n",
    "    today_string = input.read()\n",
    "\n",
    "today_string\n",
    "\n",
    "fmt = '%Y-%m-%d'\n",
    "datetime.datetime.strptime(today_string, fmt)\n",
    "\n"
   ]
  },
  {
   "cell_type": "code",
   "execution_count": 2,
   "id": "dcd278a4-54f0-4c2e-b49c-05ab84a71a2a",
   "metadata": {},
   "outputs": [],
   "source": [
    "import datetime\n",
    "\n",
    "from datetime import date\n",
    "\n",
    "now = date.today()\n",
    "now_str = now.isoformat()\n",
    "with open('today.txt', 'wt') as output:\n",
    "    output.write(now_str)"
   ]
  },
  {
   "cell_type": "code",
   "execution_count": 3,
   "id": "f3c85c1a-e3e3-4e75-90b7-9d2cbd8e48b8",
   "metadata": {},
   "outputs": [],
   "source": [
    "import datetime\n",
    "\n",
    "from datetime import date\n",
    "\n",
    "now = date.today()\n",
    "now_str = now.isoformat()\n",
    "with open('today.txt', 'wt') as output:\n",
    "    output.write(now_str)\n",
    "\n",
    "with open('today.txt', 'rt') as input:\n",
    "    today_string = input.read()"
   ]
  },
  {
   "cell_type": "code",
   "execution_count": 5,
   "id": "a18abca3-c71c-4765-9901-efcf4e98b922",
   "metadata": {},
   "outputs": [],
   "source": [
    "import multiprocessing\n",
    "\n",
    "def now(seconds):\n",
    "    from datetime import datetime\n",
    "    from time import sleep\n",
    "    sleep(seconds)\n",
    "    print('wait', seconds, 'seconds, time is', datetime.utcnow())\n",
    "\n",
    "if __name__ == '__main__':\n",
    "    import random\n",
    "    for n in range(3):\n",
    "        seconds = random.random()\n",
    "        proc = multiprocessing.Process(target=now, args=(seconds,))\n",
    "        proc.start()"
   ]
  },
  {
   "cell_type": "code",
   "execution_count": null,
   "id": "2f784a8e-3d64-4834-ac62-b5cf6f581582",
   "metadata": {},
   "outputs": [],
   "source": []
  },
  {
   "cell_type": "code",
   "execution_count": null,
   "id": "54eb15e8-c97e-4182-9b51-279e7e2eae42",
   "metadata": {},
   "outputs": [],
   "source": []
  }
 ],
 "metadata": {
  "kernelspec": {
   "display_name": "Python 3 (ipykernel)",
   "language": "python",
   "name": "python3"
  },
  "language_info": {
   "codemirror_mode": {
    "name": "ipython",
    "version": 3
   },
   "file_extension": ".py",
   "mimetype": "text/x-python",
   "name": "python",
   "nbconvert_exporter": "python",
   "pygments_lexer": "ipython3",
   "version": "3.12.7"
  }
 },
 "nbformat": 4,
 "nbformat_minor": 5
}
