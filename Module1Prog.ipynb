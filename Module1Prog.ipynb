{
 "cells": [
  {
   "cell_type": "code",
   "execution_count": 1,
   "id": "e244dc46-8db1-4402-98de-4f2b48aaaa4e",
   "metadata": {},
   "outputs": [
    {
     "name": "stdout",
     "output_type": "stream",
     "text": [
      "3600\n"
     ]
    }
   ],
   "source": [
    "minutes=60\n",
    "seconds=60\n",
    "seconds_per_hour=minutes * seconds\n",
    "print(seconds_per_hour)\n"
   ]
  },
  {
   "cell_type": "code",
   "execution_count": 3,
   "id": "23df332f-dc47-42cc-9f95-ff9f323bfbda",
   "metadata": {},
   "outputs": [
    {
     "name": "stdout",
     "output_type": "stream",
     "text": [
      "86400\n"
     ]
    }
   ],
   "source": [
    "seconds_per_day=seconds_per_hour*24\n",
    "print(seconds_per_day)\n"
   ]
  },
  {
   "cell_type": "code",
   "execution_count": 4,
   "id": "daa443ea-3bb8-45da-9035-0f44d2957732",
   "metadata": {},
   "outputs": [
    {
     "name": "stdout",
     "output_type": "stream",
     "text": [
      "0.041666666666666664\n"
     ]
    }
   ],
   "source": [
    "seconds_per_hour /= seconds_per_day\n",
    "print (seconds_per_hour)"
   ]
  },
  {
   "cell_type": "code",
   "execution_count": 5,
   "id": "884b69ab-959f-4e6d-aa1b-1cbb97ba2529",
   "metadata": {},
   "outputs": [
    {
     "name": "stdout",
     "output_type": "stream",
     "text": [
      "0.0\n"
     ]
    }
   ],
   "source": [
    "seconds_per_hour //= seconds_per_day\n",
    "print(seconds_per_hour)"
   ]
  },
  {
   "cell_type": "code",
   "execution_count": null,
   "id": "1656ec1a-ca43-4694-8582-3088e0a63a20",
   "metadata": {},
   "outputs": [],
   "source": []
  }
 ],
 "metadata": {
  "kernelspec": {
   "display_name": "Python 3 (ipykernel)",
   "language": "python",
   "name": "python3"
  },
  "language_info": {
   "codemirror_mode": {
    "name": "ipython",
    "version": 3
   },
   "file_extension": ".py",
   "mimetype": "text/x-python",
   "name": "python",
   "nbconvert_exporter": "python",
   "pygments_lexer": "ipython3",
   "version": "3.12.7"
  }
 },
 "nbformat": 4,
 "nbformat_minor": 5
}
