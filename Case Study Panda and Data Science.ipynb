{
 "cells": [
  {
   "cell_type": "code",
   "execution_count": 5,
   "id": "7ab3ec09-ca06-4238-8c76-353ddcbc1be4",
   "metadata": {},
   "outputs": [
    {
     "ename": "SyntaxError",
     "evalue": "invalid syntax (3888732628.py, line 9)",
     "output_type": "error",
     "traceback": [
      "\u001b[1;36m  Cell \u001b[1;32mIn[5], line 9\u001b[1;36m\u001b[0m\n\u001b[1;33m    dictdf = pd.DataFrame.from.dict(tempdict)\u001b[0m\n\u001b[1;37m                          ^\u001b[0m\n\u001b[1;31mSyntaxError\u001b[0m\u001b[1;31m:\u001b[0m invalid syntax\n"
     ]
    }
   ],
   "source": [
    "import pandas as pd\n",
    "\n",
    "#Create from a CSV\n",
    "df = pd.read_csv('talco_churn.csv')\n",
    "\n",
    "#Create from a dictionary\n",
    "tempdict = {'coll':[1,2,3], 'col2':[4,5,6], 'col3':[7,8,9]}\n",
    "\n",
    "dictdf = pd.DataFrame.from.dict(tempdict)\n",
    "pd.read\n",
    "#Read the data\n",
    "df.head(10)\n",
    "\n",
    "#Read from dictionary\n",
    "dictdf.head()\n",
    "\n",
    "#Bottom 5 Rows\n",
    "df.tail()\n",
    "\n",
    "#Summary statistics\n",
    "df.describe()\n",
    "df.describe(include='object')\n",
    "\n",
    "#Filtering Columns\n",
    "df.State\n",
    "df[['State', 'Internation plan']]\n",
    "df.State.unique\n",
    "\n",
    "df.head\n",
    "df[df['International plan']=='No']\n",
    "df[(df['International plan']=='No') & (df['Churn']==True)]\n",
    "\n",
    "df.iloc[14]\n",
    "df.iloc[14,-1]\n",
    "df.iloc[22:33]\n",
    "\n",
    "state = df.copy()\n",
    "state.set_index('State', inplace=True)\n",
    "state.head()\n",
    "state.loc['OH']\n",
    "\n",
    "#Update\n",
    "df.isnull().sum()\n",
    "df.dropna(inplace=True)\n",
    "df.isnull().sum()\n",
    "df.drop('Area code', axis=1)\n",
    "df['New Column'] = df['Total night minutes'] + df['Total intl minutes']\n",
    "df.head()\n",
    "df['New Column'] = 100\n",
    "df.head()\n",
    "df.iloc[0,-1] = 10\n",
    "df.head()\n",
    "df['Churn Binary'] = df['Churn'].apply(lambda x: 1 if x==True else 0)\n",
    "df[df['Churn']==True].head()\n",
    "\n",
    "#Delete\n",
    "df.to_csv('output.csv')\n",
    "df.to_json()\n",
    "df.to_html()\n",
    "#to delete a DF\n",
    "del df"
   ]
  },
  {
   "cell_type": "code",
   "execution_count": null,
   "id": "50840d7a-123c-4567-be5d-b7b0b23c1e88",
   "metadata": {},
   "outputs": [],
   "source": []
  }
 ],
 "metadata": {
  "kernelspec": {
   "display_name": "Python 3 (ipykernel)",
   "language": "python",
   "name": "python3"
  },
  "language_info": {
   "codemirror_mode": {
    "name": "ipython",
    "version": 3
   },
   "file_extension": ".py",
   "mimetype": "text/x-python",
   "name": "python",
   "nbconvert_exporter": "python",
   "pygments_lexer": "ipython3",
   "version": "3.12.7"
  }
 },
 "nbformat": 4,
 "nbformat_minor": 5
}
